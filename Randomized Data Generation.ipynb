{
 "cells": [
  {
   "cell_type": "code",
   "execution_count": 1,
   "metadata": {},
   "outputs": [],
   "source": [
    "import numpy as np\n",
    "import pandas as pd\n",
    "import random"
   ]
  },
  {
   "cell_type": "markdown",
   "metadata": {},
   "source": [
    "Random Seed For Repreductibility "
   ]
  },
  {
   "cell_type": "code",
   "execution_count": 2,
   "metadata": {},
   "outputs": [],
   "source": [
    "np.random.seed(40)"
   ]
  },
  {
   "cell_type": "markdown",
   "metadata": {},
   "source": [
    "Let us choose a dataset size of 100 for this dummy dataset"
   ]
  },
  {
   "cell_type": "code",
   "execution_count": 3,
   "metadata": {},
   "outputs": [],
   "source": [
    "samp_size=100"
   ]
  },
  {
   "cell_type": "markdown",
   "metadata": {},
   "source": [
    "Although there are many parameters that affect the cost estimation of Road Projects, I have choosen following 8 features/parameters for my regression model"
   ]
  },
  {
   "cell_type": "markdown",
   "metadata": {
    "slideshow": {
     "slide_type": "slide"
    }
   },
   "source": [
    "1 Length of Road in km\n"
   ]
  },
  {
   "cell_type": "markdown",
   "metadata": {},
   "source": [
    "2 Width of Carriage Way in m\n"
   ]
  },
  {
   "cell_type": "markdown",
   "metadata": {},
   "source": [
    "3 Flexible Pavement percentage in %\n"
   ]
  },
  {
   "cell_type": "markdown",
   "metadata": {},
   "source": [
    "4 Sub-base Course Thickness in mm\n"
   ]
  },
  {
   "cell_type": "markdown",
   "metadata": {},
   "source": [
    "5 Base Course Thickness in mm\n"
   ]
  },
  {
   "cell_type": "markdown",
   "metadata": {},
   "source": [
    "6 Surface Course Thickness in mm\n"
   ]
  },
  {
   "cell_type": "markdown",
   "metadata": {},
   "source": [
    "7 Year of Construction in A.D.\n"
   ]
  },
  {
   "cell_type": "markdown",
   "metadata": {},
   "source": [
    "8 Construction Duration in months\n"
   ]
  },
  {
   "cell_type": "markdown",
   "metadata": {},
   "source": [
    "Now using Numpy and Random, I will generate arrays of all the parameters for dummy data."
   ]
  },
  {
   "cell_type": "code",
   "execution_count": 17,
   "metadata": {},
   "outputs": [],
   "source": [
    "road_len=np.random.choice(np.arange(5,50,0.2),samp_size) #in km\n",
    "carriageway_wid=np.random.choice(np.arange(7,29,3.5),samp_size) #in m\n",
    "flexible_pavement_percentage=np.random.randint(50,100,samp_size) #in percentage\n",
    "sub_base_thick=np.random.choice(np.arange(100,301,50),samp_size) #in mm\n",
    "base_thick=np.random.choice(np.arange(50,151,25),samp_size) #in mm\n",
    "surface_thick=np.random.choice(np.arange(20,101,20),samp_size) #in mm\n",
    "year=np.random.randint(2000,2024,samp_size) #in AD\n",
    "duration=np.random.randint(12,61,samp_size) # in months\n",
    "\n"
   ]
  },
  {
   "cell_type": "code",
   "execution_count": 23,
   "metadata": {},
   "outputs": [
    {
     "data": {
      "text/plain": [
       "array([200, 100, 300, 250, 250, 250, 250, 150, 200, 250])"
      ]
     },
     "execution_count": 23,
     "metadata": {},
     "output_type": "execute_result"
    }
   ],
   "source": [
    "#checking the code\n",
    "sub_base_thick[:10]"
   ]
  },
  {
   "cell_type": "markdown",
   "metadata": {},
   "source": [
    "Now Generate synthetic cost data by using various cofficients yourselves"
   ]
  },
  {
   "cell_type": "code",
   "execution_count": 43,
   "metadata": {},
   "outputs": [],
   "source": [
    "cost=cost = (\n",
    "    300000 +\n",
    "    20000 * road_len +\n",
    "    3000 * carriageway_wid +\n",
    "    1500 * flexible_pavement_percentage +\n",
    "    100 * sub_base_thick +\n",
    "    150 * base_thick +\n",
    "    200 * surface_thick+\n",
    "    500 * (year-2000) +\n",
    "    200 * duration +\n",
    "    np.random.normal(0, 10000, samp_size)  \n",
    ")"
   ]
  },
  {
   "cell_type": "markdown",
   "metadata": {},
   "source": [
    "Now, Creating a DataFrame and inserting the above generated ddata into the DataFrame"
   ]
  },
  {
   "cell_type": "code",
   "execution_count": 44,
   "metadata": {},
   "outputs": [],
   "source": [
    "\n",
    "col=['Length_Of_Road(km)','Width_Of_Carriageway(m)','Flexible_pavement_percentage',\n",
    "         'Sub_base_thickness(mm)','Base_thickness(mm)','Surface_Thickness(mm)',\n",
    "         'Construction_year(AD)','Construction_Duration(Months)','Total_estimated_cost']\n",
    "\n",
    "result=np.column_stack([road_len,carriageway_wid,flexible_pavement_percentage,\n",
    "                 sub_base_thick,base_thick,surface_thick,year,duration,cost])\n",
    "\n",
    "df=pd.DataFrame(result,columns=col)"
   ]
  },
  {
   "cell_type": "markdown",
   "metadata": {},
   "source": [
    "Lets , print some of the values from the Dataframe"
   ]
  },
  {
   "cell_type": "code",
   "execution_count": 46,
   "metadata": {},
   "outputs": [
    {
     "data": {
      "text/html": [
       "<div>\n",
       "<style scoped>\n",
       "    .dataframe tbody tr th:only-of-type {\n",
       "        vertical-align: middle;\n",
       "    }\n",
       "\n",
       "    .dataframe tbody tr th {\n",
       "        vertical-align: top;\n",
       "    }\n",
       "\n",
       "    .dataframe thead th {\n",
       "        text-align: right;\n",
       "    }\n",
       "</style>\n",
       "<table border=\"1\" class=\"dataframe\">\n",
       "  <thead>\n",
       "    <tr style=\"text-align: right;\">\n",
       "      <th></th>\n",
       "      <th>Length_Of_Road(km)</th>\n",
       "      <th>Width_Of_Carriageway(m)</th>\n",
       "      <th>Flexible_pavement_percentage</th>\n",
       "      <th>Sub_base_thickness(mm)</th>\n",
       "      <th>Base_thickness(mm)</th>\n",
       "      <th>Surface_Thickness(mm)</th>\n",
       "      <th>Construction_year(AD)</th>\n",
       "      <th>Construction_Duration(Months)</th>\n",
       "      <th>Total_estimated_cost</th>\n",
       "    </tr>\n",
       "  </thead>\n",
       "  <tbody>\n",
       "    <tr>\n",
       "      <th>0</th>\n",
       "      <td>17.6</td>\n",
       "      <td>24.5</td>\n",
       "      <td>54.0</td>\n",
       "      <td>200.0</td>\n",
       "      <td>125.0</td>\n",
       "      <td>20.0</td>\n",
       "      <td>2017.0</td>\n",
       "      <td>50.0</td>\n",
       "      <td>8.644279e+05</td>\n",
       "    </tr>\n",
       "    <tr>\n",
       "      <th>1</th>\n",
       "      <td>36.8</td>\n",
       "      <td>10.5</td>\n",
       "      <td>64.0</td>\n",
       "      <td>100.0</td>\n",
       "      <td>150.0</td>\n",
       "      <td>100.0</td>\n",
       "      <td>2009.0</td>\n",
       "      <td>29.0</td>\n",
       "      <td>1.229959e+06</td>\n",
       "    </tr>\n",
       "    <tr>\n",
       "      <th>2</th>\n",
       "      <td>35.4</td>\n",
       "      <td>7.0</td>\n",
       "      <td>60.0</td>\n",
       "      <td>300.0</td>\n",
       "      <td>125.0</td>\n",
       "      <td>100.0</td>\n",
       "      <td>2022.0</td>\n",
       "      <td>25.0</td>\n",
       "      <td>1.208210e+06</td>\n",
       "    </tr>\n",
       "    <tr>\n",
       "      <th>3</th>\n",
       "      <td>7.4</td>\n",
       "      <td>14.0</td>\n",
       "      <td>63.0</td>\n",
       "      <td>250.0</td>\n",
       "      <td>125.0</td>\n",
       "      <td>60.0</td>\n",
       "      <td>2018.0</td>\n",
       "      <td>45.0</td>\n",
       "      <td>6.741708e+05</td>\n",
       "    </tr>\n",
       "    <tr>\n",
       "      <th>4</th>\n",
       "      <td>25.8</td>\n",
       "      <td>21.0</td>\n",
       "      <td>68.0</td>\n",
       "      <td>250.0</td>\n",
       "      <td>100.0</td>\n",
       "      <td>60.0</td>\n",
       "      <td>2023.0</td>\n",
       "      <td>39.0</td>\n",
       "      <td>1.051869e+06</td>\n",
       "    </tr>\n",
       "    <tr>\n",
       "      <th>5</th>\n",
       "      <td>6.2</td>\n",
       "      <td>17.5</td>\n",
       "      <td>75.0</td>\n",
       "      <td>250.0</td>\n",
       "      <td>150.0</td>\n",
       "      <td>100.0</td>\n",
       "      <td>2023.0</td>\n",
       "      <td>47.0</td>\n",
       "      <td>6.670643e+05</td>\n",
       "    </tr>\n",
       "    <tr>\n",
       "      <th>6</th>\n",
       "      <td>16.0</td>\n",
       "      <td>7.0</td>\n",
       "      <td>78.0</td>\n",
       "      <td>250.0</td>\n",
       "      <td>125.0</td>\n",
       "      <td>20.0</td>\n",
       "      <td>2006.0</td>\n",
       "      <td>34.0</td>\n",
       "      <td>8.100006e+05</td>\n",
       "    </tr>\n",
       "    <tr>\n",
       "      <th>7</th>\n",
       "      <td>23.2</td>\n",
       "      <td>24.5</td>\n",
       "      <td>53.0</td>\n",
       "      <td>150.0</td>\n",
       "      <td>150.0</td>\n",
       "      <td>100.0</td>\n",
       "      <td>2022.0</td>\n",
       "      <td>20.0</td>\n",
       "      <td>1.002736e+06</td>\n",
       "    </tr>\n",
       "    <tr>\n",
       "      <th>8</th>\n",
       "      <td>40.4</td>\n",
       "      <td>14.0</td>\n",
       "      <td>62.0</td>\n",
       "      <td>200.0</td>\n",
       "      <td>150.0</td>\n",
       "      <td>20.0</td>\n",
       "      <td>2020.0</td>\n",
       "      <td>42.0</td>\n",
       "      <td>1.298691e+06</td>\n",
       "    </tr>\n",
       "    <tr>\n",
       "      <th>9</th>\n",
       "      <td>47.6</td>\n",
       "      <td>21.0</td>\n",
       "      <td>62.0</td>\n",
       "      <td>250.0</td>\n",
       "      <td>100.0</td>\n",
       "      <td>60.0</td>\n",
       "      <td>2009.0</td>\n",
       "      <td>18.0</td>\n",
       "      <td>1.477214e+06</td>\n",
       "    </tr>\n",
       "  </tbody>\n",
       "</table>\n",
       "</div>"
      ],
      "text/plain": [
       "   Length_Of_Road(km)  Width_Of_Carriageway(m)  Flexible_pavement_percentage  \\\n",
       "0                17.6                     24.5                          54.0   \n",
       "1                36.8                     10.5                          64.0   \n",
       "2                35.4                      7.0                          60.0   \n",
       "3                 7.4                     14.0                          63.0   \n",
       "4                25.8                     21.0                          68.0   \n",
       "5                 6.2                     17.5                          75.0   \n",
       "6                16.0                      7.0                          78.0   \n",
       "7                23.2                     24.5                          53.0   \n",
       "8                40.4                     14.0                          62.0   \n",
       "9                47.6                     21.0                          62.0   \n",
       "\n",
       "   Sub_base_thickness(mm)  Base_thickness(mm)  Surface_Thickness(mm)  \\\n",
       "0                   200.0               125.0                   20.0   \n",
       "1                   100.0               150.0                  100.0   \n",
       "2                   300.0               125.0                  100.0   \n",
       "3                   250.0               125.0                   60.0   \n",
       "4                   250.0               100.0                   60.0   \n",
       "5                   250.0               150.0                  100.0   \n",
       "6                   250.0               125.0                   20.0   \n",
       "7                   150.0               150.0                  100.0   \n",
       "8                   200.0               150.0                   20.0   \n",
       "9                   250.0               100.0                   60.0   \n",
       "\n",
       "   Construction_year(AD)  Construction_Duration(Months)  Total_estimated_cost  \n",
       "0                 2017.0                           50.0          8.644279e+05  \n",
       "1                 2009.0                           29.0          1.229959e+06  \n",
       "2                 2022.0                           25.0          1.208210e+06  \n",
       "3                 2018.0                           45.0          6.741708e+05  \n",
       "4                 2023.0                           39.0          1.051869e+06  \n",
       "5                 2023.0                           47.0          6.670643e+05  \n",
       "6                 2006.0                           34.0          8.100006e+05  \n",
       "7                 2022.0                           20.0          1.002736e+06  \n",
       "8                 2020.0                           42.0          1.298691e+06  \n",
       "9                 2009.0                           18.0          1.477214e+06  "
      ]
     },
     "execution_count": 46,
     "metadata": {},
     "output_type": "execute_result"
    }
   ],
   "source": [
    "df.head(10)"
   ]
  },
  {
   "cell_type": "markdown",
   "metadata": {},
   "source": [
    "The Code by far seems all good and randomized sample data are generated."
   ]
  },
  {
   "cell_type": "markdown",
   "metadata": {},
   "source": [
    " Now I will save this dataframe into a excel file for further works for project."
   ]
  },
  {
   "cell_type": "code",
   "execution_count": 49,
   "metadata": {},
   "outputs": [
    {
     "name": "stdout",
     "output_type": "stream",
     "text": [
      "Collecting openpyxlNote: you may need to restart the kernel to use updated packages.\n",
      "\n",
      "  Downloading openpyxl-3.1.2-py2.py3-none-any.whl.metadata (2.5 kB)\n",
      "Collecting et-xmlfile (from openpyxl)\n",
      "  Downloading et_xmlfile-1.1.0-py3-none-any.whl (4.7 kB)\n",
      "Downloading openpyxl-3.1.2-py2.py3-none-any.whl (249 kB)\n",
      "   ---------------------------------------- 0.0/250.0 kB ? eta -:--:--\n",
      "   ---------------------------------------- 0.0/250.0 kB ? eta -:--:--\n",
      "   - -------------------------------------- 10.2/250.0 kB ? eta -:--:--\n",
      "   - -------------------------------------- 10.2/250.0 kB ? eta -:--:--\n",
      "   - -------------------------------------- 10.2/250.0 kB ? eta -:--:--\n",
      "   ------------ -------------------------- 81.9/250.0 kB 508.4 kB/s eta 0:00:01\n",
      "   -------------------- ----------------- 133.1/250.0 kB 561.1 kB/s eta 0:00:01\n",
      "   --------------------- ---------------- 143.4/250.0 kB 607.9 kB/s eta 0:00:01\n",
      "   -------------------------------------- 250.0/250.0 kB 807.2 kB/s eta 0:00:00\n",
      "Installing collected packages: et-xmlfile, openpyxl\n",
      "Successfully installed et-xmlfile-1.1.0 openpyxl-3.1.2\n"
     ]
    }
   ],
   "source": [
    "#installing openpyxl to import dataframe data into excel file\n",
    "pip install openpyxl"
   ]
  },
  {
   "cell_type": "code",
   "execution_count": 50,
   "metadata": {},
   "outputs": [],
   "source": [
    "df.to_excel('Road_project_Dataset.xlsx',index=False)"
   ]
  },
  {
   "cell_type": "markdown",
   "metadata": {},
   "source": [
    "ALL DONE FOR THIS PART !!!!"
   ]
  }
 ],
 "metadata": {
  "kernelspec": {
   "display_name": "Python 3",
   "language": "python",
   "name": "python3"
  },
  "language_info": {
   "codemirror_mode": {
    "name": "ipython",
    "version": 3
   },
   "file_extension": ".py",
   "mimetype": "text/x-python",
   "name": "python",
   "nbconvert_exporter": "python",
   "pygments_lexer": "ipython3",
   "version": "3.11.8"
  }
 },
 "nbformat": 4,
 "nbformat_minor": 2
}
